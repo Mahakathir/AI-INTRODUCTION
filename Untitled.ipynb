{
 "cells": [
  {
   "cell_type": "code",
   "execution_count": 1,
   "id": "97ab1ee1",
   "metadata": {},
   "outputs": [
    {
     "name": "stdout",
     "output_type": "stream",
     "text": [
      "bike kolaru\n",
      "any problem:yes\n",
      "my bike is problem\n",
      "did you insert the key:no\n",
      "no\n",
      "then inser the key:yes\n",
      "yes\n",
      "check the wire is correctly connected:yes\n",
      "yes\n",
      "then connect the wire:yes\n",
      "yes\n",
      "then start the bike:yes\n",
      "bike is started\n"
     ]
    }
   ],
   "source": [
    "print(\"bike kolaru\");\n",
    "a=input(\"any problem:\");\n",
    "if(a==\"yes\"):\n",
    " print(\"my bike is problem\");\n",
    "elif(a!=\"yes\"):\n",
    " print(\"no i don't have a problem\");\n",
    "b=input(\"did you insert the key:\");\n",
    "if(b!=\"no\"):\n",
    "    print(\"yes\");\n",
    "elif(b==\"no\"):\n",
    "    print(\"no\")\n",
    "c=input(\"then inser the key:\");\n",
    "if(c==\"yes\"):\n",
    "    print(\"yes\");\n",
    "elif(c!=\"yes\"):\n",
    "    print(\"no\");\n",
    "d=input(\"check the wire is correctly connected:\");\n",
    "if(d==\"yes\"):\n",
    "    print(\"yes\")\n",
    "elif(d!=\"yes\"):\n",
    "    print(\"no\");\n",
    "e=input(\"then connect the wire:\");\n",
    "if(e=='yes'):\n",
    "    print(\"yes\");\n",
    "elif(e==\"no\"):\n",
    "    print(\"no\");\n",
    "f=input(\"then start the bike:\");\n",
    "if(e==\"yes\"):\n",
    "    print(\"bike is started\");\n",
    "else:\n",
    "    print(\"no\");\n",
    "                "
   ]
  },
  {
   "cell_type": "code",
   "execution_count": null,
   "id": "7ee383d0",
   "metadata": {},
   "outputs": [],
   "source": []
  },
  {
   "cell_type": "code",
   "execution_count": null,
   "id": "5cb0add6",
   "metadata": {},
   "outputs": [],
   "source": []
  }
 ],
 "metadata": {
  "kernelspec": {
   "display_name": "Python 3 (ipykernel)",
   "language": "python",
   "name": "python3"
  },
  "language_info": {
   "codemirror_mode": {
    "name": "ipython",
    "version": 3
   },
   "file_extension": ".py",
   "mimetype": "text/x-python",
   "name": "python",
   "nbconvert_exporter": "python",
   "pygments_lexer": "ipython3",
   "version": "3.9.15"
  }
 },
 "nbformat": 4,
 "nbformat_minor": 5
}
