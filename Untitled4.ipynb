{
 "cells": [
  {
   "cell_type": "code",
   "execution_count": 12,
   "id": "45baa59e",
   "metadata": {},
   "outputs": [],
   "source": [
    "import cv2 as a\n",
    "import numpy as np"
   ]
  },
  {
   "cell_type": "code",
   "execution_count": 2,
   "id": "df8e05d3",
   "metadata": {},
   "outputs": [],
   "source": [
    "img=a.imread(\"49.jpg\")"
   ]
  },
  {
   "cell_type": "code",
   "execution_count": 3,
   "id": "2ff75225",
   "metadata": {},
   "outputs": [],
   "source": [
    "a.imshow(\"img\",img)\n",
    "a.waitKey(0)\n",
    "a.destroyAllWindows()"
   ]
  },
  {
   "cell_type": "code",
   "execution_count": 4,
   "id": "ba9cd772",
   "metadata": {},
   "outputs": [
    {
     "name": "stdout",
     "output_type": "stream",
     "text": [
      "(1050, 1680, 3)\n",
      "1050\n",
      "1680\n"
     ]
    }
   ],
   "source": [
    "shape=img.shape\n",
    "print(shape)\n",
    "height,width=img.shape[:2]\n",
    "print(height)\n",
    "print(width)"
   ]
  },
  {
   "cell_type": "code",
   "execution_count": 5,
   "id": "0f7d552e",
   "metadata": {},
   "outputs": [
    {
     "name": "stdout",
     "output_type": "stream",
     "text": [
      "(525.0, 840.0)\n"
     ]
    }
   ],
   "source": [
    "center=(height/2,width/2)\n",
    "print(center)"
   ]
  },
  {
   "cell_type": "code",
   "execution_count": 6,
   "id": "fc7519aa",
   "metadata": {},
   "outputs": [
    {
     "name": "stdout",
     "output_type": "stream",
     "text": [
      "[[ 3.53553391e-01  3.53553391e-01  4.23996218e+01]\n",
      " [-3.53553391e-01  3.53553391e-01  7.28630682e+02]]\n"
     ]
    }
   ],
   "source": [
    "rotate_matrix=a.getRotationMatrix2D(center=center,angle=45,scale=0.5)\n",
    "print(rotate_matrix)"
   ]
  },
  {
   "cell_type": "code",
   "execution_count": 14,
   "id": "11d190bc",
   "metadata": {},
   "outputs": [],
   "source": [
    "rotated_img=a.warpAffine(src=img,M=rotate_matrix,dsize=(width,height))\n",
    "a.imshow(\"original image\",img)\n",
    "a.waitKey(0)\n",
    "a.destroyAllWindows()\n",
    "a.imshow(\"rotated image\",rotated_img)\n",
    "a.waitKey(0)\n",
    "a.destroyAllWindows()"
   ]
  },
  {
   "cell_type": "code",
   "execution_count": 52,
   "id": "e8de887e",
   "metadata": {},
   "outputs": [],
   "source": [
    "tx,ty=width/80,height/80"
   ]
  },
  {
   "cell_type": "code",
   "execution_count": 56,
   "id": "c7452885",
   "metadata": {},
   "outputs": [],
   "source": [
    "translation_matrix=np.array([[2,0,tx],[0,2,ty]])"
   ]
  },
  {
   "cell_type": "code",
   "execution_count": 57,
   "id": "3fd049a0",
   "metadata": {},
   "outputs": [],
   "source": [
    "translation_img=a.warpAffine(src=img,M=translation_matrix,dsize=(width,height))"
   ]
  },
  {
   "cell_type": "code",
   "execution_count": 58,
   "id": "08a8ec4e",
   "metadata": {},
   "outputs": [],
   "source": [
    "a.imshow(\"translation\",translation_img)\n",
    "a.waitKey(0)\n",
    "a.destroyAllWindows()"
   ]
  },
  {
   "cell_type": "code",
   "execution_count": null,
   "id": "51136032",
   "metadata": {},
   "outputs": [],
   "source": []
  }
 ],
 "metadata": {
  "kernelspec": {
   "display_name": "Python 3 (ipykernel)",
   "language": "python",
   "name": "python3"
  },
  "language_info": {
   "codemirror_mode": {
    "name": "ipython",
    "version": 3
   },
   "file_extension": ".py",
   "mimetype": "text/x-python",
   "name": "python",
   "nbconvert_exporter": "python",
   "pygments_lexer": "ipython3",
   "version": "3.9.15"
  }
 },
 "nbformat": 4,
 "nbformat_minor": 5
}
