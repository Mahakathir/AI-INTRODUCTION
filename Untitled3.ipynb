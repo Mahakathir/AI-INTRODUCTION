{
 "cells": [
  {
   "cell_type": "code",
   "execution_count": 7,
   "id": "df16f2df",
   "metadata": {},
   "outputs": [],
   "source": [
    "import cv2 as a"
   ]
  },
  {
   "cell_type": "code",
   "execution_count": 18,
   "id": "f2b227cf",
   "metadata": {},
   "outputs": [],
   "source": [
    "img=a.imread(\"pex.jpg\")"
   ]
  },
  {
   "cell_type": "code",
   "execution_count": 19,
   "id": "0a4ef707",
   "metadata": {},
   "outputs": [],
   "source": [
    "med=a.medianBlur(img,99)"
   ]
  },
  {
   "cell_type": "code",
   "execution_count": 20,
   "id": "a8883857",
   "metadata": {},
   "outputs": [],
   "source": [
    "a.imshow(\"img\",img)\n",
    "a.waitKey(0)\n",
    "a.imshow(\"BLur-med\",med)\n",
    "a.waitKey(0)\n",
    "a.destroyAllWindows()"
   ]
  },
  {
   "cell_type": "code",
   "execution_count": 21,
   "id": "2c254ca2",
   "metadata": {},
   "outputs": [],
   "source": [
    "bilat=a.bilateralFilter(img,50,100,20)"
   ]
  },
  {
   "cell_type": "code",
   "execution_count": 25,
   "id": "6200fb58",
   "metadata": {},
   "outputs": [],
   "source": [
    "a.imshow(\"img\",img)\n",
    "a.waitKey(1000)\n",
    "a.destroyAllWindows()\n",
    "a.imshow(\"Blur-Bilat\",bilat)\n",
    "a.waitKey(0)\n",
    "a.destroyAllWindows()"
   ]
  },
  {
   "cell_type": "code",
   "execution_count": null,
   "id": "5fccd3a5",
   "metadata": {},
   "outputs": [],
   "source": []
  }
 ],
 "metadata": {
  "kernelspec": {
   "display_name": "Python 3 (ipykernel)",
   "language": "python",
   "name": "python3"
  },
  "language_info": {
   "codemirror_mode": {
    "name": "ipython",
    "version": 3
   },
   "file_extension": ".py",
   "mimetype": "text/x-python",
   "name": "python",
   "nbconvert_exporter": "python",
   "pygments_lexer": "ipython3",
   "version": "3.9.15"
  }
 },
 "nbformat": 4,
 "nbformat_minor": 5
}
